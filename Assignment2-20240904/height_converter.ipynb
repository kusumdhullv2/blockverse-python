{
  "cells": [
    {
      "cell_type": "code",
      "execution_count": null,
      "metadata": {
        "id": "TGS_s-NRO__L"
      },
      "outputs": [],
      "source": [
        "#program to convert height from feet to inches\n",
        "\n",
        "height_feet = float(input(\"Enter height in feet\"))\n",
        "height_inches = height_feet * 12\n",
        "height_centimeters = height_feet * 2.54\n",
        "height_inches = f\"height in inches is : {height_inches}\"\n",
        "print(height_inches)\n",
        "height_centimeters = f\"height in centimeters: {height_centimeters}\"\n",
        "print(height_centimeters)\n"
      ]
    }
  ],
  "metadata": {
    "colab": {
      "provenance": []
    },
    "kernelspec": {
      "display_name": "Python 3",
      "name": "python3"
    },
    "language_info": {
      "name": "python",
      "version": "3.13.0"
    }
  },
  "nbformat": 4,
  "nbformat_minor": 0
}
